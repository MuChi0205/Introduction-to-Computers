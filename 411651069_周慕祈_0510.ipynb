{
  "nbformat": 4,
  "nbformat_minor": 0,
  "metadata": {
    "colab": {
      "provenance": [],
      "authorship_tag": "ABX9TyN89q3kcAHWZES+lyX2Tqyl",
      "include_colab_link": true
    },
    "kernelspec": {
      "name": "python3",
      "display_name": "Python 3"
    },
    "language_info": {
      "name": "python"
    }
  },
  "cells": [
    {
      "cell_type": "markdown",
      "metadata": {
        "id": "view-in-github",
        "colab_type": "text"
      },
      "source": [
        "<a href=\"https://colab.research.google.com/github/MuChi0205/Introduction-to-Computers/blob/main/411651069_%E5%91%A8%E6%85%95%E7%A5%88_0510.ipynb\" target=\"_parent\"><img src=\"https://colab.research.google.com/assets/colab-badge.svg\" alt=\"Open In Colab\"/></a>"
      ]
    },
    {
      "cell_type": "code",
      "execution_count": 1,
      "metadata": {
        "colab": {
          "base_uri": "https://localhost:8080/"
        },
        "id": "ZDD67VWt2RLJ",
        "outputId": "2abcfa34-9018-4f8c-b054-5c7c39306c96"
      },
      "outputs": [
        {
          "output_type": "stream",
          "name": "stdout",
          "text": [
            "請輸入密碼:１１１１\n",
            "密碼不正確\n"
          ]
        }
      ],
      "source": [
        "password=int(input(\"請輸入密碼:\"))\n",
        "if password==1234:\n",
        "  print(\"密碼正確\")\n",
        "else:\n",
        "  print(\"密碼不正確\")"
      ]
    },
    {
      "cell_type": "code",
      "source": [
        "rain=(input(\"今天會下雨嗎:\"))\n",
        "if (rain=='y'or rain=='Y'):\n",
        "  print('要帶傘')\n",
        "else:\n",
        "  print('不用帶傘')"
      ],
      "metadata": {
        "colab": {
          "base_uri": "https://localhost:8080/"
        },
        "id": "AdgTUo5o5GrV",
        "outputId": "fcd21a44-dfc3-46b0-dbbd-c005094e6d20"
      },
      "execution_count": 6,
      "outputs": [
        {
          "output_type": "stream",
          "name": "stdout",
          "text": [
            "今天會下雨嗎:no\n",
            "不用帶傘\n"
          ]
        }
      ]
    },
    {
      "cell_type": "code",
      "source": [
        "number=(input(\"偶數或奇數:\"))\n",
        "if(\"number%2==0\"):\n",
        "  print(\"奇數\")\n",
        "else:\n",
        "  print(\"偶數\")"
      ],
      "metadata": {
        "colab": {
          "base_uri": "https://localhost:8080/"
        },
        "id": "MQ-bTNdJ6uF9",
        "outputId": "e29a7dde-3580-400e-d7a0-8e073456e38c"
      },
      "execution_count": 10,
      "outputs": [
        {
          "output_type": "stream",
          "name": "stdout",
          "text": [
            "偶數或奇數:49\n",
            "奇數\n"
          ]
        }
      ]
    }
  ]
}