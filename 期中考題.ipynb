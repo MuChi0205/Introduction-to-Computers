{
  "nbformat": 4,
  "nbformat_minor": 0,
  "metadata": {
    "colab": {
      "provenance": [],
      "authorship_tag": "ABX9TyMjMXvxVE/zw6qhm7DN+dXF",
      "include_colab_link": true
    },
    "kernelspec": {
      "name": "python3",
      "display_name": "Python 3"
    },
    "language_info": {
      "name": "python"
    }
  },
  "cells": [
    {
      "cell_type": "markdown",
      "metadata": {
        "id": "view-in-github",
        "colab_type": "text"
      },
      "source": [
        "<a href=\"https://colab.research.google.com/github/MuChi0205/Introduction-to-Computers/blob/main/%E6%9C%9F%E4%B8%AD%E8%80%83%E9%A1%8C.ipynb\" target=\"_parent\"><img src=\"https://colab.research.google.com/assets/colab-badge.svg\" alt=\"Open In Colab\"/></a>"
      ]
    },
    {
      "cell_type": "code",
      "execution_count": null,
      "metadata": {
        "colab": {
          "base_uri": "https://localhost:8080/"
        },
        "id": "F0JNdBcnuz_5",
        "outputId": "6f0b4ef0-f979-4868-e5b9-0aa913221254"
      },
      "outputs": [
        {
          "output_type": "stream",
          "name": "stdout",
          "text": [
            "請輸入文字panda\n",
            "panda\n",
            "請輸入文字peiyu\n",
            "peiyu\n"
          ]
        }
      ],
      "source": [
        "a=input(\"請輸入文字\")\n",
        "print(a)\n",
        "a=input(\"請輸入文字\")\n",
        "print(a)"
      ]
    },
    {
      "cell_type": "code",
      "source": [
        "h,w=input().split(' ')\n",
        "int_h=int(h)\n",
        "int_w=int(w)\n",
        "h_a=int_h/100\n",
        "bmi=int_w/h_a**2\n",
        "print(\"%.2f\"%bmi)"
      ],
      "metadata": {
        "colab": {
          "base_uri": "https://localhost:8080/"
        },
        "id": "K413m4LW1BwA",
        "outputId": "ca036d8d-a224-4149-885e-b7a3ee533784"
      },
      "execution_count": null,
      "outputs": [
        {
          "output_type": "stream",
          "name": "stdout",
          "text": [
            "176 75\n",
            "24.21\n"
          ]
        }
      ]
    },
    {
      "cell_type": "code",
      "source": [
        "sum=0\n",
        "n=int(input(\"請輸入正整數:\"))\n",
        "for i in range(10,n+1):\n",
        "  sum+=i\n",
        "print(\"10到%d的正整數和為:%d\" % (n,sum))"
      ],
      "metadata": {
        "colab": {
          "base_uri": "https://localhost:8080/"
        },
        "id": "bFJiUM4x3dne",
        "outputId": "81383438-4863-4920-a45f-f5d44fe486c9"
      },
      "execution_count": null,
      "outputs": [
        {
          "output_type": "stream",
          "name": "stdout",
          "text": [
            "請輸入正整數:20\n",
            "10到20的正整數和為:165\n"
          ]
        }
      ]
    },
    {
      "cell_type": "code",
      "source": [
        "x='hello panda hi hi'\n",
        "length=0\n",
        "for i in x:\n",
        "  length+=1\n",
        "print(length)\n",
        "x='good to drink ? '\n",
        "length=0\n",
        "for i in x:\n",
        "  length+=1\n",
        "print(length)"
      ],
      "metadata": {
        "colab": {
          "base_uri": "https://localhost:8080/"
        },
        "id": "GWw7ME-f_AqG",
        "outputId": "0044e169-df48-4ea7-98e2-154eb621eb70"
      },
      "execution_count": null,
      "outputs": [
        {
          "output_type": "stream",
          "name": "stdout",
          "text": [
            "17\n",
            "16\n"
          ]
        }
      ]
    }
  ]
}