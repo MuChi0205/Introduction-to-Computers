{
  "nbformat": 4,
  "nbformat_minor": 0,
  "metadata": {
    "colab": {
      "provenance": [],
      "authorship_tag": "ABX9TyMRGFBsqSdXOO00jPmfN03i",
      "include_colab_link": true
    },
    "kernelspec": {
      "name": "python3",
      "display_name": "Python 3"
    },
    "language_info": {
      "name": "python"
    }
  },
  "cells": [
    {
      "cell_type": "markdown",
      "metadata": {
        "id": "view-in-github",
        "colab_type": "text"
      },
      "source": [
        "<a href=\"https://colab.research.google.com/github/MuChi0205/Introduction-to-Computers/blob/main/0517_411651069_%E5%91%A8%E6%85%95%E7%A5%88.ipynb\" target=\"_parent\"><img src=\"https://colab.research.google.com/assets/colab-badge.svg\" alt=\"Open In Colab\"/></a>"
      ]
    },
    {
      "cell_type": "code",
      "execution_count": null,
      "metadata": {
        "colab": {
          "base_uri": "https://localhost:8080/"
        },
        "id": "Lb7YNf1fVwLE",
        "outputId": "4c894167-6781-4307-8b6a-03b9ceac9966"
      },
      "outputs": [
        {
          "output_type": "stream",
          "name": "stdout",
          "text": [
            "score:60\n",
            "Grade is:D\n"
          ]
        }
      ],
      "source": [
        "score=int(input(\"score:\"))\n",
        "if score>=90:\n",
        "  print('Grade is:A')\n",
        "elif score>=80:\n",
        "  print('Grade is:B')\n",
        "elif score>=70:\n",
        "  print('Grade is:C')\n",
        "elif score>=60:\n",
        "  print('Grade is:D')\n",
        "else:\n",
        "  print('Grade is:E')"
      ]
    },
    {
      "cell_type": "code",
      "source": [
        "temp =float(input(\"temp:\" ))\n",
        "if temp>=37.5:\n",
        "  print('體溫過高！')\n",
        "elif 37.5>temp>=37 :\n",
        "  print('體溫略高！')\n",
        "elif 37>temp>=34 :\n",
        "  print('體溫正常！')\n",
        "else:\n",
        "  print('體溫異常，請重新測量！')"
      ],
      "metadata": {
        "colab": {
          "base_uri": "https://localhost:8080/"
        },
        "id": "gpAITCd_YPTC",
        "outputId": "256c24ec-d3d2-41b3-e584-04e6b51bd4f5"
      },
      "execution_count": null,
      "outputs": [
        {
          "output_type": "stream",
          "name": "stdout",
          "text": [
            "temp:37.4\n",
            "體溫略高！\n"
          ]
        }
      ]
    },
    {
      "cell_type": "code",
      "source": [
        "month=int(input(\"X:\"))\n",
        "if month==3 or month==4 or month==5:\n",
        "  print('X是春天')\n",
        "elif month==6 or month==7 or month==8:\n",
        "  print('X是夏天')\n",
        "elif month==9 or month==10 or month==11:\n",
        "  print('X是秋天')\n",
        "elif month==12 or month==1 or month==2:\n",
        "  print('X是冬天')\n",
        "else:\n",
        "  print('月份不在範圍內！')\n",
        "\n"
      ],
      "metadata": {
        "colab": {
          "base_uri": "https://localhost:8080/"
        },
        "id": "DIBHejsGdqwZ",
        "outputId": "c3a6226f-2833-462a-dcfa-d507ae6ce907"
      },
      "execution_count": null,
      "outputs": [
        {
          "output_type": "stream",
          "name": "stdout",
          "text": [
            "X:7\n",
            "X是夏天\n"
          ]
        }
      ]
    },
    {
      "cell_type": "code",
      "source": [
        "income=int(input(\"income:\"))\n",
        "if income>=2000000:\n",
        "  r=income*0.3\n",
        "  print(r)\n",
        "elif 2000000>income>=1000000:\n",
        "  r=income*0.21\n",
        "  print(r)\n",
        "elif 1000000>income>=600000:\n",
        "  r=income*0.13\n",
        "  print(r)\n",
        "elif 600000>income>=300000:\n",
        "  r=income*0.06\n",
        "  print(r)\n",
        "else:\n",
        "  r=0\n",
        "  print(r)\n",
        "  "
      ],
      "metadata": {
        "id": "84CnHRZTkyY1",
        "colab": {
          "base_uri": "https://localhost:8080/"
        },
        "outputId": "0a8c6b2b-abc0-408a-d5d6-f9b0ec5f7680"
      },
      "execution_count": 26,
      "outputs": [
        {
          "output_type": "stream",
          "name": "stdout",
          "text": [
            "income:1600000\n",
            "336000.0\n"
          ]
        }
      ]
    },
    {
      "cell_type": "code",
      "source": [
        "rain=(input(\"今天會下雨嗎:\"))\n",
        "if (rain=='y'or rain=='Y'):\n",
        "  print('要帶傘')\n",
        "else:\n",
        "  print('不用帶傘')"
      ],
      "metadata": {
        "colab": {
          "base_uri": "https://localhost:8080/"
        },
        "id": "xeKRiLS3uSD-",
        "outputId": "6d219c78-a5c6-4146-8368-800d21312604"
      },
      "execution_count": 27,
      "outputs": [
        {
          "output_type": "stream",
          "name": "stdout",
          "text": [
            "今天會下雨嗎:y\n",
            "要帶傘\n"
          ]
        }
      ]
    },
    {
      "cell_type": "code",
      "source": [],
      "metadata": {
        "id": "XpudgAdyvCux"
      },
      "execution_count": null,
      "outputs": []
    }
  ]
}